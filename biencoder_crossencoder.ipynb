{
 "cells": [
  {
   "cell_type": "code",
   "execution_count": 1,
   "metadata": {},
   "outputs": [],
   "source": [
    "from sentence_transformers import CrossEncoder, SentenceTransformer\n",
    "import numpy as np"
   ]
  },
  {
   "cell_type": "code",
   "execution_count": 2,
   "metadata": {},
   "outputs": [],
   "source": [
    "# Function to calculate cosine similarity\n",
    "\n",
    "\n",
    "def cosine_similarity(v1, v2):\n",
    "    return np.dot(v1, v2) / (np.linalg.norm(v1) * np.linalg.norm(v2))"
   ]
  },
  {
   "cell_type": "code",
   "execution_count": 3,
   "metadata": {},
   "outputs": [],
   "source": [
    "# Sample query\n",
    "query = \"How many people live in New Delhi?\"\n",
    "\n",
    "# Sample answers\n",
    "answers = [\n",
    "    \"New Delhi has a population of 33,807,000 registered inhabitants in an area of 42.7 square kilometers.\",  # Correct answer\n",
    "    \"In 2020, the population of India's capital city surpassed 33,807,000.\",  # Correct answer\n",
    "    \"How many people live in New Delhi? No idea\",  # Distraction\n",
    "    \"I visited New Delhi last year; it seemed over crowded. Lots of people\",  # Distraction\n",
    "    \"New Delhi, the capital of India, is known for its cultural landmarks.\",  # Distraction\n",
    "]"
   ]
  },
  {
   "cell_type": "code",
   "execution_count": 4,
   "metadata": {},
   "outputs": [],
   "source": [
    "embedding_model = SentenceTransformer(\"all-MiniLM-L6-v2\") "
   ]
  },
  {
   "cell_type": "code",
   "execution_count": 5,
   "metadata": {},
   "outputs": [
    {
     "name": "stdout",
     "output_type": "stream",
     "text": [
      "[0.7709923, 0.5768032, 0.9825392, 0.76041126, 0.538421]\n"
     ]
    },
    {
     "data": {
      "text/plain": [
       "'How many people live in New Delhi? No idea'"
      ]
     },
     "execution_count": 5,
     "metadata": {},
     "output_type": "execute_result"
    }
   ],
   "source": [
    "answer_embeddings = embedding_model.encode(answers)\n",
    "query_embedding = embedding_model.encode([query])[0]\n",
    "scores = [cosine_similarity(query_embedding, e) for e in answer_embeddings]\n",
    "print(scores)\n",
    "\n",
    "answers[np.argmax(scores)]  # Incorrect answer"
   ]
  },
  {
   "cell_type": "code",
   "execution_count": 6,
   "metadata": {},
   "outputs": [],
   "source": [
    "cross_model = CrossEncoder(\"cross-encoder/ms-marco-MiniLM-L-12-v2\")  # Cross-encoder"
   ]
  },
  {
   "cell_type": "code",
   "execution_count": 7,
   "metadata": {},
   "outputs": [
    {
     "name": "stdout",
     "output_type": "stream",
     "text": [
      "[ 9.913681   3.740024   5.3336163  1.2205386 -2.2027106]\n"
     ]
    },
    {
     "data": {
      "text/plain": [
       "'New Delhi has a population of 33,807,000 registered inhabitants in an area of 42.7 square kilometers.'"
      ]
     },
     "execution_count": 7,
     "metadata": {},
     "output_type": "execute_result"
    }
   ],
   "source": [
    "# Model predicts pairs\n",
    "\n",
    "scores = cross_model.predict(\n",
    "    [\n",
    "        (query, answers[0]),\n",
    "        (query, answers[1]),\n",
    "        (query, answers[2]),\n",
    "        (query, answers[3]),\n",
    "        (query, answers[4]),\n",
    "    ]\n",
    ")\n",
    "print(scores)\n",
    "answers[np.argmax(scores)]  # Correct answer"
   ]
  }
 ],
 "metadata": {
  "kernelspec": {
   "display_name": "pytorchgpu38final",
   "language": "python",
   "name": "python3"
  },
  "language_info": {
   "codemirror_mode": {
    "name": "ipython",
    "version": 3
   },
   "file_extension": ".py",
   "mimetype": "text/x-python",
   "name": "python",
   "nbconvert_exporter": "python",
   "pygments_lexer": "ipython3",
   "version": "3.8.17"
  }
 },
 "nbformat": 4,
 "nbformat_minor": 2
}
