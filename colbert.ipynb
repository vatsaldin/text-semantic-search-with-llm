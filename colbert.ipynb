{
 "cells": [
  {
   "cell_type": "code",
   "execution_count": 1,
   "metadata": {},
   "outputs": [
    {
     "name": "stderr",
     "output_type": "stream",
     "text": [
      "/Users/vatsaldesai/miniforge3/envs/pytorchmpsnew/lib/python3.9/site-packages/tqdm/auto.py:21: TqdmWarning: IProgress not found. Please update jupyter and ipywidgets. See https://ipywidgets.readthedocs.io/en/stable/user_install.html\n",
      "  from .autonotebook import tqdm as notebook_tqdm\n"
     ]
    },
    {
     "name": "stdout",
     "output_type": "stream",
     "text": [
      "[Mar 26, 19:11:15] Loading segmented_maxsim_cpp extension (set COLBERT_LOAD_TORCH_EXTENSION_VERBOSE=True for more info)...\n"
     ]
    },
    {
     "name": "stderr",
     "output_type": "stream",
     "text": [
      "/Users/vatsaldesai/miniforge3/envs/pytorchmpsnew/lib/python3.9/site-packages/torch/cuda/amp/grad_scaler.py:126: UserWarning: torch.cuda.amp.GradScaler is enabled, but CUDA is not available.  Disabling.\n",
      "  warnings.warn(\n"
     ]
    }
   ],
   "source": [
    "from ragatouille import RAGPretrainedModel\n",
    "from ragatouille.utils import get_wikipedia_page\n",
    "\n",
    "RAG = RAGPretrainedModel.from_pretrained(\"colbert-ir/colbertv2.0\")\n"
   ]
  },
  {
   "cell_type": "code",
   "execution_count": 2,
   "metadata": {},
   "outputs": [],
   "source": [
    "my_documents = [get_wikipedia_page(\"Hayao_Miyazaki\"), get_wikipedia_page(\"Studio_Ghibli\")]\n"
   ]
  },
  {
   "cell_type": "code",
   "execution_count": 4,
   "metadata": {},
   "outputs": [],
   "source": [
    "text = \"\"\n",
    "with open(\"Books/Ramayan by Valmiki.txt\", \"r\", encoding=\"utf-8\") as file:\n",
    "    text += file.read()\n",
    "\n"
   ]
  },
  {
   "cell_type": "code",
   "execution_count": 5,
   "metadata": {},
   "outputs": [
    {
     "data": {
      "text/plain": [
       "2293679"
      ]
     },
     "execution_count": 5,
     "metadata": {},
     "output_type": "execute_result"
    }
   ],
   "source": [
    "len(text)"
   ]
  },
  {
   "cell_type": "markdown",
   "metadata": {},
   "source": [
    "# Indexing plan stored at .ragatouille/colbert/indexes/ramayan_by_valmiki/plan.json\n",
    "\n",
    "# Directory created at .ragatouille/colbert/indexes/ramayan_by_valmiki \n",
    "\n",
    "# Encoding done for  4604 passages\n",
    "\n",
    "# Partition approximation - Created 8,192 partitions\n",
    "\n",
    "# Estimated 595,211 embeddings\n",
    "\n",
    "---- WARNING! You are using PLAID with an experimental replacement for FAISS for greater compatibility ----\n",
    "This is a behaviour change from RAGatouille 0.8.0 onwards.\n",
    "This works fine for most users and smallish datasets, but can be considerably slower than FAISS and could cause worse results in some situations.\n",
    "If you're confident with FAISS working on your machine, pass use_faiss=True to revert to the FAISS-using behaviour."
   ]
  },
  {
   "cell_type": "code",
   "execution_count": 6,
   "metadata": {},
   "outputs": [
    {
     "name": "stdout",
     "output_type": "stream",
     "text": [
      "---- WARNING! You are using PLAID with an experimental replacement for FAISS for greater compatibility ----\n",
      "This is a behaviour change from RAGatouille 0.8.0 onwards.\n",
      "This works fine for most users and smallish datasets, but can be considerably slower than FAISS and could cause worse results in some situations.\n",
      "If you're confident with FAISS working on your machine, pass use_faiss=True to revert to the FAISS-using behaviour.\n",
      "--------------------\n",
      "\n",
      "\n",
      "[Mar 26, 19:35:39] #> Creating directory .ragatouille/colbert/indexes/ramayan_by_valmiki \n",
      "\n",
      "\n",
      "[Mar 26, 19:35:43] [0] \t\t #> Encoding 4604 passages..\n"
     ]
    },
    {
     "name": "stderr",
     "output_type": "stream",
     "text": [
      "/Users/vatsaldesai/miniforge3/envs/pytorchmpsnew/lib/python3.9/site-packages/torch/cuda/amp/grad_scaler.py:126: UserWarning: torch.cuda.amp.GradScaler is enabled, but CUDA is not available.  Disabling.\n",
      "  warnings.warn(\n",
      "  0%|          | 0/50 [00:00<?, ?it/s]/Users/vatsaldesai/miniforge3/envs/pytorchmpsnew/lib/python3.9/site-packages/torch/amp/autocast_mode.py:250: UserWarning: User provided device_type of 'cuda', but CUDA is not available. Disabling\n",
      "  warnings.warn(\n",
      "  2%|▏         | 1/50 [00:03<03:08,  3.85s/it]/Users/vatsaldesai/miniforge3/envs/pytorchmpsnew/lib/python3.9/site-packages/torch/amp/autocast_mode.py:250: UserWarning: User provided device_type of 'cuda', but CUDA is not available. Disabling\n",
      "  warnings.warn(\n",
      "100%|██████████| 50/50 [01:07<00:00,  1.36s/it]\n",
      "100%|██████████| 50/50 [01:06<00:00,  1.34s/it]\n",
      "100%|██████████| 44/44 [00:49<00:00,  1.13s/it]"
     ]
    },
    {
     "name": "stdout",
     "output_type": "stream",
     "text": [
      "[Mar 26, 19:38:48] [0] \t\t avg_doclen_est = 129.28128051757812 \t len(local_sample) = 4,604\n"
     ]
    },
    {
     "name": "stderr",
     "output_type": "stream",
     "text": [
      "\n"
     ]
    },
    {
     "name": "stdout",
     "output_type": "stream",
     "text": [
      "[Mar 26, 19:38:48] [0] \t\t Creating 8,192 partitions.\n",
      "[Mar 26, 19:38:48] [0] \t\t *Estimated* 595,211 embeddings.\n",
      "[Mar 26, 19:38:48] [0] \t\t #> Saving the indexing plan to .ragatouille/colbert/indexes/ramayan_by_valmiki/plan.json ..\n",
      "used 20 iterations (2083.7797s) to cluster 565451 items into 8192 clusters\n",
      "[0.035, 0.034, 0.038, 0.033, 0.034, 0.034, 0.032, 0.033, 0.033, 0.034, 0.031, 0.034, 0.033, 0.034, 0.035, 0.036, 0.033, 0.035, 0.032, 0.033, 0.035, 0.035, 0.034, 0.034, 0.034, 0.032, 0.033, 0.033, 0.034, 0.032, 0.034, 0.034, 0.037, 0.031, 0.033, 0.031, 0.032, 0.032, 0.033, 0.039, 0.036, 0.033, 0.032, 0.032, 0.034, 0.032, 0.031, 0.038, 0.034, 0.03, 0.033, 0.033, 0.032, 0.034, 0.032, 0.034, 0.035, 0.033, 0.039, 0.032, 0.032, 0.033, 0.034, 0.035, 0.034, 0.035, 0.034, 0.033, 0.03, 0.032, 0.035, 0.035, 0.032, 0.033, 0.033, 0.033, 0.036, 0.038, 0.033, 0.035, 0.034, 0.034, 0.032, 0.033, 0.03, 0.033, 0.036, 0.034, 0.033, 0.042, 0.033, 0.036, 0.033, 0.035, 0.032, 0.033, 0.037, 0.032, 0.035, 0.035, 0.034, 0.035, 0.033, 0.034, 0.036, 0.031, 0.034, 0.031, 0.034, 0.031, 0.033, 0.035, 0.035, 0.035, 0.034, 0.033, 0.034, 0.035, 0.036, 0.033, 0.032, 0.031, 0.034, 0.035, 0.033, 0.033, 0.033, 0.031]\n"
     ]
    },
    {
     "name": "stderr",
     "output_type": "stream",
     "text": [
      "0it [00:00, ?it/s]"
     ]
    },
    {
     "name": "stdout",
     "output_type": "stream",
     "text": [
      "[Mar 26, 20:13:34] [0] \t\t #> Encoding 4604 passages..\n"
     ]
    },
    {
     "name": "stderr",
     "output_type": "stream",
     "text": [
      "100%|██████████| 50/50 [00:57<00:00,  1.15s/it]\n",
      "100%|██████████| 50/50 [00:56<00:00,  1.12s/it]\n",
      "100%|██████████| 44/44 [00:52<00:00,  1.20s/it]\n",
      "1it [02:55, 175.43s/it]\n",
      "100%|██████████| 1/1 [00:00<00:00, 967.10it/s]"
     ]
    },
    {
     "name": "stdout",
     "output_type": "stream",
     "text": [
      "[Mar 26, 20:16:29] #> Optimizing IVF to store map from centroids to list of pids..\n",
      "[Mar 26, 20:16:29] #> Building the emb2pid mapping..\n",
      "[Mar 26, 20:16:29] len(emb2pid) = 595211\n"
     ]
    },
    {
     "name": "stderr",
     "output_type": "stream",
     "text": [
      "\n",
      "100%|██████████| 8192/8192 [00:00<00:00, 95765.86it/s]"
     ]
    },
    {
     "name": "stdout",
     "output_type": "stream",
     "text": [
      "[Mar 26, 20:16:29] #> Saved optimized IVF to .ragatouille/colbert/indexes/ramayan_by_valmiki/ivf.pid.pt\n"
     ]
    },
    {
     "name": "stderr",
     "output_type": "stream",
     "text": [
      "\n"
     ]
    },
    {
     "name": "stdout",
     "output_type": "stream",
     "text": [
      "Done indexing!\n"
     ]
    },
    {
     "data": {
      "text/plain": [
       "'.ragatouille/colbert/indexes/ramayan_by_valmiki'"
      ]
     },
     "execution_count": 6,
     "metadata": {},
     "output_type": "execute_result"
    }
   ],
   "source": [
    "RAG.index(\n",
    "    collection=[text], \n",
    "    document_ids=['ramayan_by_valmiki'],\n",
    "    document_metadatas=[{\"entity\": \"person\", \"source\": \"gootenberg\", \"title\": \"Ramayan by Valmiki\"}],\n",
    "    index_name=\"ramayan_by_valmiki\", \n",
    "    max_document_length=180, \n",
    "    split_documents=True\n",
    "    )"
   ]
  },
  {
   "cell_type": "code",
   "execution_count": 18,
   "metadata": {},
   "outputs": [
    {
     "name": "stderr",
     "output_type": "stream",
     "text": [
      "/Users/vatsaldesai/miniforge3/envs/pytorchmpsnew/lib/python3.9/site-packages/torch/amp/autocast_mode.py:250: UserWarning: User provided device_type of 'cuda', but CUDA is not available. Disabling\n",
      "  warnings.warn(\n"
     ]
    },
    {
     "data": {
      "text/plain": [
       "[{'content': 'Rise up, O bravest of the brave,\\nAnd come in all thy might to save.\\nCome with the thunders of thy bow,\\nAnd smite to earth the Rákshas foe.\"\\n\\n  She ceased; and from her glorious hair\\nShe took a gem that sparkled there\\nA token which her husband\\'s eyes\\nWith eager love would recognize.\\nHis head the Vánar envoy bent\\nIn low obeisance reverent.\\nAnd on his finger bound the gem\\nShe loosened from her diadem.\\n\\n[I omit two Cantos of dialogue. Sítá tells Hanumán again to convey her\\nmessage to Ráma and bid him hasten to rescue her. Hanumán replies as\\nbefore that there is no one on earth equal to Ráma, who will soon come and\\ndestroy Rávan.',\n",
       "  'score': 20.136045455932617,\n",
       "  'rank': 1,\n",
       "  'document_id': 'ramayan_by_valmiki',\n",
       "  'passage_id': 3096,\n",
       "  'document_metadata': {'entity': 'person',\n",
       "   'source': 'gootenberg',\n",
       "   'title': 'Ramayan by Valmiki'}},\n",
       " {'content': 'They praised the Vánars true and brave,\\nThe counsel wise Sugríva gave.\\nThe deeds of Hanúmán they told,\\nThe valiant chief supremely bold,\\nThe strong ally, the faithful friend,\\nAnd Sítá\\'s truth which naught could bend.\\n\\n  To Mátali, whom Indra sent,\\nHis head the son of Raghu bent:\\nAnd he with fiery steeds who clove\\nThe clouds again to Swarga drove.\\nRound King Sugríva brave and true\\nHis arms in rapture Ráma threw,\\nLooked on the host with joy and pride,\\nAnd thus to noble Lakshman cried:\\n\\n  \"Now let king-making drops be shed,\\nDear brother, on Vibhishan\\'s head\\nFor truth and friendship nobly shown,\\nAnd make him lord of Rávan\\'s throne.\"',\n",
       "  'score': 19.37942123413086,\n",
       "  'rank': 2,\n",
       "  'document_id': 'ramayan_by_valmiki',\n",
       "  'passage_id': 3662,\n",
       "  'document_metadata': {'entity': 'person',\n",
       "   'source': 'gootenberg',\n",
       "   'title': 'Ramayan by Valmiki'}},\n",
       " {'content': 'This longing of his heart he told:\\nAnd Lakshman took an urn of gold\\nAnd bade the wind-fleet Vánars bring\\nSea water for the giants\\' king.\\nThe brimming urn was swiftly brought:\\nThen on a throne superbly wrought\\nVibhishan sat, the giants\\' lord,\\nAnd o\\'er his brows the drops were poured.\\nAs Raghu\\'s son the rite beheld\\nHis loving heart with rapture swelled:\\nBut tenderer thoughts within him woke,\\nAnd thus to Hanúmán he spoke:\\n\\n  \"Go to my queen: this message give:\\nSay Lakshman and Sugríva live.\\nThe death of Lanká\\'s monarch tell,\\nAnd bid her joy, for all is well.\"\\n\\n\\n\\n\\nCanto CXV. Sítá\\'s Joy.',\n",
       "  'score': 19.12567138671875,\n",
       "  'rank': 3,\n",
       "  'document_id': 'ramayan_by_valmiki',\n",
       "  'passage_id': 3663,\n",
       "  'document_metadata': {'entity': 'person',\n",
       "   'source': 'gootenberg',\n",
       "   'title': 'Ramayan by Valmiki'}},\n",
       " {'content': \"This gem that shone on Sítá's head\\nWas Janak's gift when we were wed,\\nAnd the pure brow that wore it lent\\nNew splendour to the ornament.\\nThis gem, bright offspring of the wave,\\nThe King of Heaven to Janak gave,\\nWhose noble sacrificial rite\\nHad filled the God with new delight.\\nNow, as I gaze upon the prize,\\nMethinks I see my father's eyes.\\nMethinks I see before me stand\\nThe ruler of Videha's land.(893)\\nMethinks mine arms are folded now\\nRound her who wore it on her brow.\\nSpeak, Hanumán, O say, dear friend,\\nWhat message did my darling send?\\nO speak, and let thy words impart\\nTheir gentle dew to cool my heart.\",\n",
       "  'score': 18.568008422851562,\n",
       "  'rank': 4,\n",
       "  'document_id': 'ramayan_by_valmiki',\n",
       "  'passage_id': 3163,\n",
       "  'document_metadata': {'entity': 'person',\n",
       "   'source': 'gootenberg',\n",
       "   'title': 'Ramayan by Valmiki'}},\n",
       " {'content': 'Dadhimukh\\nobtains little sympathy from Sugríva, and is told to return and send the\\nmonkeys on with all possible speed.]\\n\\n\\n\\n\\nCanto LXV. The Tidings.\\n\\n\\nOn to Prasravan\\'s hill they sped\\nWhere blooming trees their branches spread.\\nTo Raghu\\'s sons their heads they bent\\nAnd did obeisance reverent.\\nThen to their king, by Angad led,\\nEach Vánar chieftain bowed his head;\\nAnd Hanumán the brave and bold\\nHis tidings to the monarch told;\\nBut first in Ráma\\'s hand he placed\\nThe gem that Sítá\\'s brow had graced:\\n\"I crossed the sea: I searched a while\\nFor Sítá in the giants\\' isle.',\n",
       "  'score': 18.52875328063965,\n",
       "  'rank': 5,\n",
       "  'document_id': 'ramayan_by_valmiki',\n",
       "  'passage_id': 3160,\n",
       "  'document_metadata': {'entity': 'person',\n",
       "   'source': 'gootenberg',\n",
       "   'title': 'Ramayan by Valmiki'}},\n",
       " {'content': 'Such boon from ages long ago\\nTo Brahmá\\'s favouring will I owe.\"\\n\\n  She ceased, and Hanumán replied,\\nBy shape and threat unterrified:\\n\"Brave Ráma with his Maithil spouse\\nLodged in the shade of Dandak\\'s boughs,\\nThence Rávan king of giants stole\\nSítá the joy of Ráma\\'s soul.\\nBy Ráma\\'s high behest to her\\nI go a willing messenger;\\nAnd never shouldst them hinder one\\nWho toils for Dasaratha\\'s son.\\nFirst captive Sítá will I see,\\nAnd him who sent and waits for me,\\nThen come and to thy will submit,\\nYea, by my truth I promise it.\"\\n\"Nay, hope not thus thy life to save;\\nNot such the boon that Brahmá gave.',\n",
       "  'score': 18.51774024963379,\n",
       "  'rank': 6,\n",
       "  'document_id': 'ramayan_by_valmiki',\n",
       "  'passage_id': 2954,\n",
       "  'document_metadata': {'entity': 'person',\n",
       "   'source': 'gootenberg',\n",
       "   'title': 'Ramayan by Valmiki'}},\n",
       " {'content': 'Canto\\n      LXVII begins thus: \"Hanumán thus addressed by the great-souled son\\n      of Raghu related to the son of Raghu all that Sítá had said.\" And\\n      the two Cantos contain nothing but Hanumán\\'s account of his\\n      interview with Sítá, and the report of his own speeches as well as\\n      of hers.\\n\\n  895 The Sixth Book is called in Sanskrit _Yuddha-Kánda_ or _The War_,\\n      and _Lanká-Kánda_. It is generally known at the present day by the\\n      latter title.\\n\\n  896 Váyu is the God of Wind.\\n\\n  897 Garuda the King of Birds.\\n\\n  898 Serpent-Gods.\\n\\n  899 The God of the sea.\\n\\n  900 Indra\\'s elephant.',\n",
       "  'score': 18.470705032348633,\n",
       "  'rank': 7,\n",
       "  'document_id': 'ramayan_by_valmiki',\n",
       "  'passage_id': 4502,\n",
       "  'document_metadata': {'entity': 'person',\n",
       "   'source': 'gootenberg',\n",
       "   'title': 'Ramayan by Valmiki'}},\n",
       " {'content': \"How through the square he made his way\\nTo chambers where the women lay,\\nWithin the Asoka garden came\\nAnd there found Ráma's captive dame.\\nHis colloquy with her he sought,\\nAnd giving of the ring he brought.\\nHow Sítá gave a gem o'erjoyed;\\nHow Hanumán the grove destroyed.\\nHow giantesses trembling fled,\\nAnd servant fiends were smitten dead.\\nHow Hanumán was seized; their ire\\nWhen Lanká blazed with hostile fire.\\nHis leap across the sea once more;\\nThe eating of the honey store.\\nHow Ráma he consoled, and how\\nHe showed the gem from Sítá's brow.\\nWith Ocean, Ráma's interview;\\nThe bridge that Nala o'er it threw.\",\n",
       "  'score': 18.24835968017578,\n",
       "  'rank': 8,\n",
       "  'document_id': 'ramayan_by_valmiki',\n",
       "  'passage_id': 100,\n",
       "  'document_metadata': {'entity': 'person',\n",
       "   'source': 'gootenberg',\n",
       "   'title': 'Ramayan by Valmiki'}},\n",
       " {'content': 'Best of the sons of men is he,\\nAnd worthy of her lord is she.\"\\n\\n\\n\\n\\nCanto XVI. Hanumán\\'s Lament.\\n\\n\\nThen, all his thoughts on Sítá bent,\\nThe Vánar chieftain made lament:\\n\"The queen to Ráma\\'s soul endeared,\\nBy Lakshman\\'s pious heart revered,\\nLies here,--for none may strive with Fate,\\nA captive, sad and desolate.\\nThe brothers\\' might full well she knows,\\nAnd bravely bears the storm of woes,\\nAs swelling Gangá in the rains\\nThe rush of every flood sustains.\\nHer lord, for her, fierce Báli slew,\\nVirádha\\'s monstrous might o\\'erthrew,\\nFor her the fourteen thousand slain\\nIn Janasthán bedewed the plain.',\n",
       "  'score': 18.13668441772461,\n",
       "  'rank': 9,\n",
       "  'document_id': 'ramayan_by_valmiki',\n",
       "  'passage_id': 3014,\n",
       "  'document_metadata': {'entity': 'person',\n",
       "   'source': 'gootenberg',\n",
       "   'title': 'Ramayan by Valmiki'}},\n",
       " {'content': \"Upon the pile that bird he laid,\\nAnd still in quest of Sítá strayed.\\nA hideous giant then he saw,\\nKabandha named, a shape of awe.\\nThe monstrous fiend he smote and slew,\\nAnd in the flame the body threw;\\nWhen straight from out the funeral flame\\nIn lovely form Kabandha came,\\nAnd bade him seek in his distress\\nA wise and holy hermitess.\\nBy counsel of this saintly dame\\nTo Pampá's pleasant flood he came,\\nAnd there the steadfast friendship won\\nOf Hanumán the Wind-God's son.\\nCounselled by him he told his grief\\nTo great Sugríva, Vánar chief,\\nWho, knowing all the tale, before\\nThe sacred flame alliance swore.\",\n",
       "  'score': 17.97682762145996,\n",
       "  'rank': 10,\n",
       "  'document_id': 'ramayan_by_valmiki',\n",
       "  'passage_id': 70,\n",
       "  'document_metadata': {'entity': 'person',\n",
       "   'source': 'gootenberg',\n",
       "   'title': 'Ramayan by Valmiki'}},\n",
       " {'content': 'With joy that sprang from hope restored\\nTo Ráma spake the Vánar lord:\\n\"I know, by wise Hanúmán taught,\\nWhy thou the lonely wood hast sought.\\nWhere with thy brother Lakshman thou\\nHast sojourned, bound by hermit vow;\\nHave heard how Sítá, Janak\\'s child,\\nWas stolen in the pathless wild,\\nHow by a roving Rákshas she\\nWeeping was reft from him and thee;\\nHow, bent on death, the giant slew\\nThe vulture king, her guardian true,\\nAnd gave thy widowed breast to know\\nA solitary mourner\\'s woe.\\nBut soon, dear Prince, thy heart shall be\\nFrom every trace of sorrow free;\\nFor I thy darling will restore,\\nLost like the prize of holy lore.',\n",
       "  'score': 17.850406646728516,\n",
       "  'rank': 11,\n",
       "  'document_id': 'ramayan_by_valmiki',\n",
       "  'passage_id': 2493,\n",
       "  'document_metadata': {'entity': 'person',\n",
       "   'source': 'gootenberg',\n",
       "   'title': 'Ramayan by Valmiki'}},\n",
       " {'content': 'He retires to the city and returns bearing in his chariot\\nan effigy of Sítá, the work of magic, weeping and wailing by his side. He\\ngrasps the lovely image by the hair and cuts it down with his scimitar in\\nthe sight of the enraged Hanúmán and all the Vánar host. At last after\\nmuch fighting of the usual kind Indrajít\\'s chariot is broken in pieces,\\nhis charioteer is slain, and he himself falls by Lakshman\\'s hand, to the\\ninexpressible delight of the high-souled saints, the nymphs of heaven and\\nother celestial beings.]\\n\\n\\n\\n\\nCanto XCIII. Rávan\\'s Lament.\\n\\n\\nThey sought the king, a mournful train,\\nAnd cried, \"My lord, thy son is slain.',\n",
       "  'score': 17.824609756469727,\n",
       "  'rank': 12,\n",
       "  'document_id': 'ramayan_by_valmiki',\n",
       "  'passage_id': 3598,\n",
       "  'document_metadata': {'entity': 'person',\n",
       "   'source': 'gootenberg',\n",
       "   'title': 'Ramayan by Valmiki'}},\n",
       " {'content': 'How can my gentle love endure,\\nSo timid, delicate, and pure,\\nThe dreadful demons fierce and vile\\nWho watch her in the guarded isle?\\nNo more the light of beauty shines\\nFrom Sítá as she weeps and pines.\\nBut pain and sorrow, cloud on cloud\\nHer moonlight glory dim and shroud.\\nO speak, dear Hanumán, and tell\\nEach word that from her sweet lips fell,\\nHer words, her words alone can give\\nThe healing balm to make me live.\"(894)\\n\\n\\n\\n\\n\\nBOOK VI.(895)\\n\\n\\n\\n\\nCanto I. Ráma\\'s Speech.',\n",
       "  'score': 17.33122444152832,\n",
       "  'rank': 13,\n",
       "  'document_id': 'ramayan_by_valmiki',\n",
       "  'passage_id': 3165,\n",
       "  'document_metadata': {'entity': 'person',\n",
       "   'source': 'gootenberg',\n",
       "   'title': 'Ramayan by Valmiki'}},\n",
       " {'content': \"Then on Hanúmán's bosom hung\\nThe chain which Sítá's hand had flung:\\nSo may a cloud, when winds are still\\nWith moon-lit silver gird a hill.\\n\\n  To every Vánar Ráma gave\\nRich treasures from the mine and wave.\\nAnd with their honours well content\\nHomeward their steps the chieftains bent.\\nTen thousand years Ayodhyá, blest\\nWith Ráma's rule, had peace and rest,\\nNo widow mourned her murdered mate,\\nNo house was ever desolate.\\nThe happy land no murrain knew,\\nThe flocks and herds increased and grew.\\nThe earth her kindly fruits supplied,\\nNo harvest failed, no children died.\\nUnknown were want, disease, and crime:\\nSo calm, so happy was the time.(1029)\",\n",
       "  'score': 17.27483367919922,\n",
       "  'rank': 14,\n",
       "  'document_id': 'ramayan_by_valmiki',\n",
       "  'passage_id': 3753,\n",
       "  'document_metadata': {'entity': 'person',\n",
       "   'source': 'gootenberg',\n",
       "   'title': 'Ramayan by Valmiki'}},\n",
       " {'content': \"996 Apparently a peak of the Himalaya chain.\\n\\n  997 This exploit of Hanumán is related with inordinate prolixity in the\\n      Bengal recension (Gortesio's text). Among other adventures he\\n      narrowly escapes being shot by Bharat as he passes over Nandigrama\\n      near Ayodhyá. Hanumán stays Bharat in time, and gives him an account\\n      of what has befallen Ráma and Sítá in the forest and in Lanká.\\n\\n  998 As Garud the king of birds is the mortal enemy of serpents the\\n      weapon sacred to him is of course best calculated to destroy the\\n      serpent arrows of Rávan.\\n\\n  999 The celebrated saint who has on former occasions assisted Ráma with\\n      his gifts and counsel.\\n\\n 1000 Indra.\",\n",
       "  'score': 17.16921615600586,\n",
       "  'rank': 15,\n",
       "  'document_id': 'ramayan_by_valmiki',\n",
       "  'passage_id': 4529,\n",
       "  'document_metadata': {'entity': 'person',\n",
       "   'source': 'gootenberg',\n",
       "   'title': 'Ramayan by Valmiki'}},\n",
       " {'content': 'Agastya replies that\\nHanumán was at that time under a curse from a Rishi, and consequently was\\nnot conscious of his own might.\"(1034) The whole story of the marvellous\\nVánar is here given at length, but nothing else of importance is added to\\nthe tale already given in the Rámáyana. The Rishis or saints then (Sect.\\nXL.) return to their celestial seats, and the Vánars, Rákshases and bears\\nalso (Sect. XLIII.) take their departure. The chariot Pushpak is restored\\nto its original owner Kuvera, as has already been related in the Rámáyan.\\n\\nThe story of Ráma and Sítá is then continued, and we meet with matter of\\nmore human interest.',\n",
       "  'score': 17.058732986450195,\n",
       "  'rank': 16,\n",
       "  'document_id': 'ramayan_by_valmiki',\n",
       "  'passage_id': 3847,\n",
       "  'document_metadata': {'entity': 'person',\n",
       "   'source': 'gootenberg',\n",
       "   'title': 'Ramayan by Valmiki'}},\n",
       " {'content': \"Hanumán's Speech.\\n   Canto XXXVI. Ráma's Ring.\\n   Canto XXXVII. Sítá's Speech.\\n   Canto XXXVIII. Sítá's Gem.\\n   Canto XLI. The Ruin Of The Grove.\\n   Canto XLII. The Giants Roused.\\n   Canto XLIII. The Ruin Of The Temple.\\n   Canto XLIV. Jambumáli's Death.\\n   Canto XLV. The Seven Defeated.\\n   Canto XLVI. The Captains.\\n   Canto XLVII. The Death Of Aksha.\\n   Canto XLVIII. Hanumán Captured.\\n   Canto XLIX. Rávan.\\n   Canto L. Prahasta's Questions.\",\n",
       "  'score': 17.04656219482422,\n",
       "  'rank': 17,\n",
       "  'document_id': 'ramayan_by_valmiki',\n",
       "  'passage_id': 37,\n",
       "  'document_metadata': {'entity': 'person',\n",
       "   'source': 'gootenberg',\n",
       "   'title': 'Ramayan by Valmiki'}},\n",
       " {'content': 'Hanúmán saw them sit, he sought\\nA Sál tree\\'s leafy bough and brought\\nThe burthen, and with meek request\\nEntreated Lakshman, too, to rest.\\nThere on the noble mountain\\'s brow,\\nStrewn with the young leaves of the bough,\\nSat Raghu\\'s son in placid ease\\nCalm as the sea when sleeps the breeze.\\nSugríva\\'s heart with rapture swelled,\\nAnd thus, by eager love impelled,\\nHe spoke in gracious tone, that, oft\\nChecked by his joy, was low and soft:\\n\"I, by my brother\\'s might oppressed,\\nBy ceaseless woe and fear distressed,\\nMourning my consort far away,\\nOn Rishyamúka\\'s mountain stray.\\nExpelled by Báli\\'s cruel hate\\nI wander here disconsolate.',\n",
       "  'score': 17.026500701904297,\n",
       "  'rank': 18,\n",
       "  'document_id': 'ramayan_by_valmiki',\n",
       "  'passage_id': 2511,\n",
       "  'document_metadata': {'entity': 'person',\n",
       "   'source': 'gootenberg',\n",
       "   'title': 'Ramayan by Valmiki'}},\n",
       " {'content': \"The Death Of Aksha.\\n   Canto XLVIII. Hanumán Captured.\\n   Canto XLIX. Rávan.\\n   Canto L. Prahasta's Questions.\\n   Canto LI. Hanumán's Reply.\\n   Canto LII. Vibhishan's Speech.\\n   Canto LIII. The Punishment.\\n   Canto LIV. The Burning Of Lanká.\\n   Canto LV. Fear For Sítá.\\n   Canto LVI. Mount Arishta.\\n   Canto LVII. Hanumán's Return.\\n   Canto LVIII. The Feast Of Honey.\\n   Canto LXV. The Tidings.\\n   Canto LXVI. Ráma's Speech.\\nBOOK VI.\",\n",
       "  'score': 16.95284652709961,\n",
       "  'rank': 19,\n",
       "  'document_id': 'ramayan_by_valmiki',\n",
       "  'passage_id': 38,\n",
       "  'document_metadata': {'entity': 'person',\n",
       "   'source': 'gootenberg',\n",
       "   'title': 'Ramayan by Valmiki'}},\n",
       " {'content': \"Canto XLVIII. The Asur's Death.\\n\\n\\nBut Hanumán still onward pressed\\nWith Tára, Angad, and the rest,\\nThrough Vindhya's pathless glens he sped\\nAnd left no spot unvisited.\\nHe gazed from every mountain height,\\nHe sought each cavern dark as night,\\nAnd wandered through the bloomy shade\\nBy pool and river and cascade,\\nBut, though they sought in every place,\\nOf Sítá yet they found no trace.\\nOn fruit and woodland berries fed\\nThrough many a lonely wild they sped,\\nAnd reached at last, untouched by fear,\\nA desert terrible and drear:\\nA fruitless waste, a land of gloom\\nWhere trees were bare of leaf and bloom,\\nWhere every scanty stream was dried,\\nAnd niggard earth her roots denied.\",\n",
       "  'score': 16.931365966796875,\n",
       "  'rank': 20,\n",
       "  'document_id': 'ramayan_by_valmiki',\n",
       "  'passage_id': 2852,\n",
       "  'document_metadata': {'entity': 'person',\n",
       "   'source': 'gootenberg',\n",
       "   'title': 'Ramayan by Valmiki'}}]"
      ]
     },
     "execution_count": 18,
     "metadata": {},
     "output_type": "execute_result"
    }
   ],
   "source": [
    "k = 20 # How many documents you want to retrieve, defaults to 10, we set it to 3 here for readability\n",
    "results = RAG.search(query=\"What did Sita tell Hanuman in Ashok Vatika?\", k=k)\n",
    "results"
   ]
  },
  {
   "cell_type": "code",
   "execution_count": 15,
   "metadata": {},
   "outputs": [],
   "source": [
    "from sentence_transformers import CrossEncoder, SentenceTransformer\n"
   ]
  },
  {
   "cell_type": "code",
   "execution_count": 16,
   "metadata": {},
   "outputs": [],
   "source": [
    "cross_model = CrossEncoder(\"cross-encoder/ms-marco-MiniLM-L-12-v2\")  # Cross-encoder"
   ]
  },
  {
   "cell_type": "code",
   "execution_count": 17,
   "metadata": {},
   "outputs": [],
   "source": [
    "query = \"What did Sita tell Hanuman in Ashok Vatika?\""
   ]
  },
  {
   "cell_type": "code",
   "execution_count": 20,
   "metadata": {},
   "outputs": [],
   "source": [
    "answers = []\n",
    "query_ans_pairs = []\n",
    "for i in results:\n",
    "    query_ans_pairs.append((query, i[\"content\"]))\n",
    "    "
   ]
  },
  {
   "cell_type": "code",
   "execution_count": 23,
   "metadata": {},
   "outputs": [
    {
     "name": "stdout",
     "output_type": "stream",
     "text": [
      "[ 5.638633    4.531327    4.064478    1.1682484   2.3804927   3.6262581\n",
      "  4.4067774   3.0649111   1.6636729   1.9997929   1.9525647   1.5187883\n",
      "  2.6198013   2.0563576   0.9223807   2.29138     2.8381546  -0.19967344\n",
      " -0.19786163  1.2785125 ]\n"
     ]
    },
    {
     "data": {
      "text/plain": [
       "('What did Sita tell Hanuman in Ashok Vatika?',\n",
       " 'Rise up, O bravest of the brave,\\nAnd come in all thy might to save.\\nCome with the thunders of thy bow,\\nAnd smite to earth the Rákshas foe.\"\\n\\n  She ceased; and from her glorious hair\\nShe took a gem that sparkled there\\nA token which her husband\\'s eyes\\nWith eager love would recognize.\\nHis head the Vánar envoy bent\\nIn low obeisance reverent.\\nAnd on his finger bound the gem\\nShe loosened from her diadem.\\n\\n[I omit two Cantos of dialogue. Sítá tells Hanumán again to convey her\\nmessage to Ráma and bid him hasten to rescue her. Hanumán replies as\\nbefore that there is no one on earth equal to Ráma, who will soon come and\\ndestroy Rávan.')"
      ]
     },
     "execution_count": 23,
     "metadata": {},
     "output_type": "execute_result"
    }
   ],
   "source": [
    "import numpy as np\n",
    "scores = cross_model.predict(query_ans_pairs )\n",
    "print(scores)\n",
    "query_ans_pairs[np.argmax(scores)]  # Hopefuly ! Correct answer"
   ]
  },
  {
   "cell_type": "code",
   "execution_count": null,
   "metadata": {},
   "outputs": [],
   "source": []
  },
  {
   "cell_type": "code",
   "execution_count": null,
   "metadata": {},
   "outputs": [],
   "source": []
  }
 ],
 "metadata": {
  "kernelspec": {
   "display_name": "pytorchmpsnew",
   "language": "python",
   "name": "python3"
  },
  "language_info": {
   "codemirror_mode": {
    "name": "ipython",
    "version": 3
   },
   "file_extension": ".py",
   "mimetype": "text/x-python",
   "name": "python",
   "nbconvert_exporter": "python",
   "pygments_lexer": "ipython3",
   "version": "3.9.19"
  }
 },
 "nbformat": 4,
 "nbformat_minor": 2
}
