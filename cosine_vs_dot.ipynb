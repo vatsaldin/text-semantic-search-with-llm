{
 "cells": [
  {
   "cell_type": "code",
   "execution_count": 1,
   "metadata": {},
   "outputs": [],
   "source": [
    "from sentence_transformers import SentenceTransformer\n",
    "import numpy as np"
   ]
  },
  {
   "cell_type": "code",
   "execution_count": 8,
   "metadata": {},
   "outputs": [],
   "source": [
    "import numpy as np\n",
    "from math import isclose"
   ]
  },
  {
   "cell_type": "code",
   "execution_count": 2,
   "metadata": {},
   "outputs": [],
   "source": [
    "# Calculates Cosine Similarity\n",
    "def cosine_similarity(v1, v2):\n",
    "    return np.dot(v1, v2) / (np.linalg.norm(v1) * np.linalg.norm(v2))"
   ]
  },
  {
   "cell_type": "code",
   "execution_count": 3,
   "metadata": {},
   "outputs": [],
   "source": [
    "# Normalizes a vector\n",
    "def normalize_vector(v):\n",
    "    norm = np.linalg.norm(v)\n",
    "    if norm == 0:\n",
    "        return v\n",
    "    return v / norm"
   ]
  },
  {
   "cell_type": "code",
   "execution_count": 4,
   "metadata": {},
   "outputs": [],
   "source": [
    "# Generate random vectors\n",
    "np.random.seed(0)\n",
    "vector1 = np.random.rand(1000)\n",
    "vector2 = np.random.rand(1000)\n",
    "\n",
    "# Normalize the vectors\n",
    "norm_vector1 = normalize_vector(vector1)\n",
    "norm_vector2 = normalize_vector(vector2)"
   ]
  },
  {
   "cell_type": "code",
   "execution_count": 5,
   "metadata": {},
   "outputs": [
    {
     "name": "stdout",
     "output_type": "stream",
     "text": [
      "18.17651933044476\n",
      "1.0\n"
     ]
    }
   ],
   "source": [
    "print(np.linalg.norm(vector1))\n",
    "print(np.linalg.norm(norm_vector1))"
   ]
  },
  {
   "cell_type": "code",
   "execution_count": 6,
   "metadata": {},
   "outputs": [
    {
     "name": "stdout",
     "output_type": "stream",
     "text": [
      "CPU times: user 87 µs, sys: 25 µs, total: 112 µs\n",
      "Wall time: 98 µs\n"
     ]
    }
   ],
   "source": [
    "%time score = cosine_similarity(vector1, vector2)"
   ]
  },
  {
   "cell_type": "code",
   "execution_count": 7,
   "metadata": {},
   "outputs": [
    {
     "name": "stdout",
     "output_type": "stream",
     "text": [
      "CPU times: user 23 µs, sys: 8 µs, total: 31 µs\n",
      "Wall time: 30.8 µs\n"
     ]
    }
   ],
   "source": [
    "%time score = np.dot(norm_vector1, norm_vector2)"
   ]
  },
  {
   "cell_type": "code",
   "execution_count": 9,
   "metadata": {},
   "outputs": [
    {
     "name": "stdout",
     "output_type": "stream",
     "text": [
      "0.7463645813901374\n",
      "0.7463645813901376\n"
     ]
    },
    {
     "data": {
      "text/plain": [
       "True"
      ]
     },
     "execution_count": 9,
     "metadata": {},
     "output_type": "execute_result"
    }
   ],
   "source": [
    "print(cosine_similarity(vector1, vector2))\n",
    "print(np.dot(norm_vector1, norm_vector2))\n",
    "\n",
    "isclose(cosine_similarity(vector1, vector2), np.dot(norm_vector1, norm_vector2))"
   ]
  },
  {
   "cell_type": "code",
   "execution_count": 14,
   "metadata": {},
   "outputs": [],
   "source": [
    "# Store the text file in Books folder\n",
    "import os\n",
    "import requests\n",
    "\n",
    "\n",
    "def download_gutenberg_book(url: str, bookname: str):\n",
    "    response = requests.get(url)\n",
    "    book_text = response.text\n",
    "    folder_name = \"Books\"\n",
    "    \n",
    "    if not os.path.exists(folder_name):\n",
    "        os.makedirs(folder_name)\n",
    "    with open(f\"{folder_name}/{bookname}.txt\", \"w\") as file:\n",
    "        file.write(book_text)\n"
   ]
  },
  {
   "cell_type": "code",
   "execution_count": 15,
   "metadata": {},
   "outputs": [],
   "source": [
    "download_gutenberg_book('https://www.gutenberg.org/cache/epub/2852/pg2852.txt', bookname=\"The Hound of the Baskervilles\")"
   ]
  },
  {
   "cell_type": "code",
   "execution_count": 16,
   "metadata": {},
   "outputs": [],
   "source": [
    "# Write code to read the text files from the folder Books and store the text in text variable\n",
    "import os\n",
    "\n",
    "folder_name = \"../Books\"\n",
    "text = \"\"\n",
    "for filename in os.listdir(folder_name):\n",
    "    if filename.endswith(\".txt\"):\n",
    "        with open(os.path.join(folder_name, filename), \"r\") as file:\n",
    "            text += file.read()"
   ]
  },
  {
   "cell_type": "code",
   "execution_count": 18,
   "metadata": {},
   "outputs": [
    {
     "data": {
      "text/plain": [
       "(7347, 387)"
      ]
     },
     "execution_count": 18,
     "metadata": {},
     "output_type": "execute_result"
    }
   ],
   "source": [
    "# Split the text into sentences based on the newline character\n",
    "sentences = text.split(\"\\n\")\n",
    "\n",
    "# Calculate the split index to divide the list into index and search sentences\n",
    "split_index = int(len(sentences) * 0.95)\n",
    "\n",
    "# Divide the list of sentences into index sentences and search sentences based on the split index\n",
    "index_sentences = sentences[:split_index]\n",
    "search_sentences = sentences[split_index:]\n",
    "\n",
    "# Check the length of the index and search sentences\n",
    "len(index_sentences), len(search_sentences)"
   ]
  },
  {
   "cell_type": "code",
   "execution_count": 22,
   "metadata": {},
   "outputs": [
    {
     "name": "stdout",
     "output_type": "stream",
     "text": [
      "\n",
      "\n",
      "\n",
      "\n",
      "      “How did you know what I was doing? I believe you have eyes in\n",
      "\n",
      "\n",
      "\n",
      "      the back of your head.”\n",
      "\n",
      "\n",
      "\n",
      "\n",
      "\n",
      "\n",
      "\n",
      "      “I have, at least, a well-polished, silver-plated coffee-pot in\n",
      "\n",
      "\n",
      "\n"
     ]
    }
   ],
   "source": [
    "for sentence in sentences[100:105]:\n",
    "\n",
    "    print(sentence)\n",
    "    print(\"\\n\\n\")"
   ]
  },
  {
   "cell_type": "code",
   "execution_count": 24,
   "metadata": {},
   "outputs": [],
   "source": [
    "embedding_model = SentenceTransformer(\"multi-qa-mpnet-base-dot-v1\")"
   ]
  },
  {
   "cell_type": "code",
   "execution_count": 25,
   "metadata": {},
   "outputs": [
    {
     "data": {
      "application/vnd.jupyter.widget-view+json": {
       "model_id": "aa30ddab6db14c48bde2ca18340ff0e3",
       "version_major": 2,
       "version_minor": 0
      },
      "text/plain": [
       "Batches:   0%|          | 0/230 [00:00<?, ?it/s]"
      ]
     },
     "metadata": {},
     "output_type": "display_data"
    },
    {
     "data": {
      "application/vnd.jupyter.widget-view+json": {
       "model_id": "c303f46bd2074c32958fe3a9f7a2f26c",
       "version_major": 2,
       "version_minor": 0
      },
      "text/plain": [
       "Batches:   0%|          | 0/13 [00:00<?, ?it/s]"
      ]
     },
     "metadata": {},
     "output_type": "display_data"
    }
   ],
   "source": [
    "index_vecs = embedding_model.encode(\n",
    "    sentences=index_sentences,\n",
    "    normalize_embeddings=False,  # Not normalized\n",
    "    convert_to_numpy=True,\n",
    "    show_progress_bar=True,\n",
    ")\n",
    "search_vecs = embedding_model.encode(\n",
    "    sentences=search_sentences,\n",
    "    normalize_embeddings=False,  # Not normalized\n",
    "    convert_to_numpy=True,\n",
    "    show_progress_bar=True,\n",
    ")"
   ]
  },
  {
   "cell_type": "code",
   "execution_count": 26,
   "metadata": {},
   "outputs": [
    {
     "name": "stdout",
     "output_type": "stream",
     "text": [
      "[[ 0.18585834 -0.02780735 -0.37401932 ... -0.08716787 -0.11603957\n",
      "  -0.26933447]\n",
      " [-0.52928126 -0.2696722  -0.21997276 ...  0.08029402  0.00908622\n",
      "  -0.25519395]\n",
      " [ 0.15273277 -0.15258895 -0.44360036 ... -0.32564375 -0.2011139\n",
      "  -0.3818391 ]\n",
      " ...\n",
      " [ 0.2466823  -0.12731965 -0.30290797 ... -0.32036534  0.06795593\n",
      "  -0.1924995 ]\n",
      " [ 0.15273179 -0.61342275 -0.26124075 ... -0.1257215  -0.06204565\n",
      "  -0.33400458]\n",
      " [ 0.16924407 -0.49414548 -0.27602398 ... -0.26493305  0.1770307\n",
      "  -0.11719689]]\n"
     ]
    }
   ],
   "source": [
    "print(index_vecs)"
   ]
  },
  {
   "cell_type": "code",
   "execution_count": 27,
   "metadata": {},
   "outputs": [
    {
     "data": {
      "text/plain": [
       "6.11775"
      ]
     },
     "execution_count": 27,
     "metadata": {},
     "output_type": "execute_result"
    }
   ],
   "source": [
    "np.linalg.norm(index_vecs[0])  # Norm isn't 1"
   ]
  },
  {
   "cell_type": "code",
   "execution_count": 28,
   "metadata": {},
   "outputs": [
    {
     "data": {
      "application/vnd.jupyter.widget-view+json": {
       "model_id": "892f8a44cf3a4a3fb93fe0fd5d4cde5c",
       "version_major": 2,
       "version_minor": 0
      },
      "text/plain": [
       "Batches:   0%|          | 0/230 [00:00<?, ?it/s]"
      ]
     },
     "metadata": {},
     "output_type": "display_data"
    },
    {
     "data": {
      "application/vnd.jupyter.widget-view+json": {
       "model_id": "f02a5c588bb94ce99db20b462194a6dd",
       "version_major": 2,
       "version_minor": 0
      },
      "text/plain": [
       "Batches:   0%|          | 0/13 [00:00<?, ?it/s]"
      ]
     },
     "metadata": {},
     "output_type": "display_data"
    }
   ],
   "source": [
    "index_vecs_norm = embedding_model.encode(\n",
    "    sentences=index_sentences,\n",
    "    normalize_embeddings=True,  # Normalized\n",
    "    convert_to_numpy=True,\n",
    "    show_progress_bar=True,\n",
    ")\n",
    "search_vecs_norm = embedding_model.encode(\n",
    "    sentences=search_sentences,\n",
    "    normalize_embeddings=True,  # Normalized\n",
    "    convert_to_numpy=True,\n",
    "    show_progress_bar=True,\n",
    ")"
   ]
  },
  {
   "cell_type": "code",
   "execution_count": 29,
   "metadata": {},
   "outputs": [],
   "source": [
    "N = 200"
   ]
  },
  {
   "cell_type": "code",
   "execution_count": 30,
   "metadata": {},
   "outputs": [
    {
     "name": "stdout",
     "output_type": "stream",
     "text": [
      "CPU times: user 4.65 s, sys: 5.07 ms, total: 4.65 s\n",
      "Wall time: 4.72 s\n"
     ]
    }
   ],
   "source": [
    "%%time\n",
    "for v1 in search_vecs[:N]:\n",
    "    for v2 in index_vecs:\n",
    "        cosine_similarity(v1, v2)"
   ]
  },
  {
   "cell_type": "code",
   "execution_count": 31,
   "metadata": {},
   "outputs": [
    {
     "name": "stdout",
     "output_type": "stream",
     "text": [
      "CPU times: user 920 ms, sys: 3.81 ms, total: 924 ms\n",
      "Wall time: 937 ms\n"
     ]
    }
   ],
   "source": [
    "%%time\n",
    "for v1 in search_vecs_norm[:N]:\n",
    "    for v2 in index_vecs_norm:\n",
    "        np.dot(v1, v2)"
   ]
  }
 ],
 "metadata": {
  "kernelspec": {
   "display_name": "pytorchgpu38final",
   "language": "python",
   "name": "python3"
  },
  "language_info": {
   "codemirror_mode": {
    "name": "ipython",
    "version": 3
   },
   "file_extension": ".py",
   "mimetype": "text/x-python",
   "name": "python",
   "nbconvert_exporter": "python",
   "pygments_lexer": "ipython3",
   "version": "3.8.17"
  }
 },
 "nbformat": 4,
 "nbformat_minor": 2
}
