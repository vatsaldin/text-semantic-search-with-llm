{
 "cells": [
  {
   "cell_type": "code",
   "execution_count": null,
   "metadata": {},
   "outputs": [],
   "source": [
    "%%capture\n",
    "%pip install sentence_transformers"
   ]
  },
  {
   "cell_type": "code",
   "execution_count": 2,
   "metadata": {},
   "outputs": [
    {
     "name": "stderr",
     "output_type": "stream",
     "text": [
      "/mnt/EXT2/UbuntuCondaEnvs/llamaindexnew/lib/python3.10/site-packages/tqdm/auto.py:21: TqdmWarning: IProgress not found. Please update jupyter and ipywidgets. See https://ipywidgets.readthedocs.io/en/stable/user_install.html\n",
      "  from .autonotebook import tqdm as notebook_tqdm\n"
     ]
    }
   ],
   "source": [
    "from sentence_transformers import SentenceTransformer, util\n",
    "import torch"
   ]
  },
  {
   "cell_type": "code",
   "execution_count": 3,
   "metadata": {},
   "outputs": [
    {
     "name": "stderr",
     "output_type": "stream",
     "text": [
      "modules.json: 100%|██████████| 349/349 [00:00<00:00, 3.01MB/s]\n",
      "config_sentence_transformers.json: 100%|██████████| 116/116 [00:00<00:00, 144kB/s]\n",
      "README.md: 100%|██████████| 10.7k/10.7k [00:00<00:00, 7.60MB/s]\n",
      "sentence_bert_config.json: 100%|██████████| 53.0/53.0 [00:00<00:00, 90.4kB/s]\n",
      "config.json: 100%|██████████| 612/612 [00:00<00:00, 1.00MB/s]\n",
      "pytorch_model.bin: 100%|██████████| 90.9M/90.9M [00:15<00:00, 5.98MB/s]\n",
      "tokenizer_config.json: 100%|██████████| 350/350 [00:00<00:00, 604kB/s]\n",
      "vocab.txt: 100%|██████████| 232k/232k [00:00<00:00, 710kB/s]\n",
      "tokenizer.json: 100%|██████████| 466k/466k [00:00<00:00, 1.52MB/s]\n",
      "special_tokens_map.json: 100%|██████████| 112/112 [00:00<00:00, 194kB/s]\n",
      "1_Pooling/config.json: 100%|██████████| 190/190 [00:00<00:00, 268kB/s]\n"
     ]
    }
   ],
   "source": [
    "embedder = SentenceTransformer(\"all-MiniLM-L6-v2\")\n",
    "\n",
    "# Corpus with example sentences\n",
    "corpus = [\n",
    "    \"A man is drinking water.\",\n",
    "    \"A man is drinking a cup of tea.\",\n",
    "    \"The woman is carrying a baby.\",\n",
    "    \"A man is riding a cycle.\",\n",
    "    \"A girl is playing violin.\",\n",
    "    \"Two men are pushing a car in the parking lot.\",\n",
    "    \"A man is riding a black horse on an enclosed ground.\",\n",
    "    \"A monkey is eating a banana.\",\n",
    "    \"A tiger is climbing a tree.\"\n",
    "]"
   ]
  },
  {
   "cell_type": "code",
   "execution_count": 4,
   "metadata": {},
   "outputs": [],
   "source": [
    "corpus_embeddings = embedder.encode(corpus, convert_to_tensor=True)"
   ]
  },
  {
   "cell_type": "code",
   "execution_count": 6,
   "metadata": {},
   "outputs": [
    {
     "name": "stdout",
     "output_type": "stream",
     "text": [
      "\n",
      "\n",
      "======================\n",
      "\n",
      "\n",
      "Query: A man is drinking coffee.\n",
      "\n",
      "Top 5 most similar sentences in corpus:\n",
      "A man is drinking a cup of tea. (Score: 0.6578)\n",
      "A man is drinking water. (Score: 0.5808)\n",
      "A man is riding a cycle. (Score: 0.1873)\n",
      "A tiger is climbing a tree. (Score: 0.1672)\n",
      "A man is riding a black horse on an enclosed ground. (Score: 0.1299)\n",
      "\n",
      "\n",
      "======================\n",
      "\n",
      "\n",
      "Query: Someone in a gorilla costume is eating a banana\n",
      "\n",
      "Top 5 most similar sentences in corpus:\n",
      "A monkey is eating a banana. (Score: 0.7489)\n",
      "A tiger is climbing a tree. (Score: 0.2181)\n",
      "A man is drinking water. (Score: 0.1145)\n",
      "A man is drinking a cup of tea. (Score: 0.1144)\n",
      "A man is riding a black horse on an enclosed ground. (Score: 0.0729)\n",
      "\n",
      "\n",
      "======================\n",
      "\n",
      "\n",
      "Query: A tiger is near a tree to hunt a prey.\n",
      "\n",
      "Top 5 most similar sentences in corpus:\n",
      "A tiger is climbing a tree. (Score: 0.7822)\n",
      "A monkey is eating a banana. (Score: 0.2203)\n",
      "A man is riding a black horse on an enclosed ground. (Score: 0.0832)\n",
      "A girl is playing violin. (Score: 0.0776)\n",
      "The woman is carrying a baby. (Score: 0.0068)\n"
     ]
    }
   ],
   "source": [
    "# Query sentences:\n",
    "queries = [\n",
    "    \"A man is drinking coffee.\",\n",
    "    \"Someone in a gorilla costume is eating a banana\",\n",
    "    \"A tiger is near a tree to hunt a prey.\",\n",
    "]\n",
    "\n",
    "\n",
    "# Find the closest 5 sentences of the corpus for each query sentence based on cosine similarity\n",
    "top_k = min(5, len(corpus))\n",
    "for query in queries:\n",
    "    query_embedding = embedder.encode(query, convert_to_tensor=True)\n",
    "\n",
    "    # We use cosine-similarity and torch.topk to find the highest 5 scores\n",
    "    cos_scores = util.cos_sim(query_embedding, corpus_embeddings)[0]\n",
    "    top_results = torch.topk(cos_scores, k=top_k)\n",
    "\n",
    "    print(\"\\n\\n======================\\n\\n\")\n",
    "    print(\"Query:\", query)\n",
    "    print(\"\\nTop 5 most similar sentences in corpus:\")\n",
    "\n",
    "    for score, idx in zip(top_results[0], top_results[1]):\n",
    "        print(corpus[idx], \"(Score: {:.4f})\".format(score))"
   ]
  }
 ],
 "metadata": {
  "kernelspec": {
   "display_name": "Python 3",
   "language": "python",
   "name": "python3"
  },
  "language_info": {
   "codemirror_mode": {
    "name": "ipython",
    "version": 3
   },
   "file_extension": ".py",
   "mimetype": "text/x-python",
   "name": "python",
   "nbconvert_exporter": "python",
   "pygments_lexer": "ipython3",
   "version": "3.10.13"
  }
 },
 "nbformat": 4,
 "nbformat_minor": 2
}
